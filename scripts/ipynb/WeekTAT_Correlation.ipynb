{
 "cells": [
  {
   "cell_type": "code",
   "execution_count": 1,
   "metadata": {},
   "outputs": [],
   "source": [
    "import pandas as pd\n",
    "import os"
   ]
  },
  {
   "cell_type": "code",
   "execution_count": 2,
   "metadata": {},
   "outputs": [],
   "source": [
    "path = os.chdir('C:/Users/jewel.espiritu/OneDrive - AMDATEX LAS PINAS SERVICES INC/Python/py')\n",
    "df = pd.read_excel(\"./data/TAT2.xlsx\")"
   ]
  },
  {
   "cell_type": "code",
   "execution_count": 6,
   "metadata": {},
   "outputs": [
    {
     "name": "stdout",
     "output_type": "stream",
     "text": [
      "   Week Number  WithIn TAT  WithIn TAT %  Beyond TAT  Beyond TAT %  \\\n",
      "0  Week 48 TTR         945      0.738281         335      0.261719   \n",
      "1  Week 47 TTR        1196      0.758883         380      0.241117   \n",
      "2  Week 46 TTR        1204      0.729697         446      0.270303   \n",
      "3  Week 45 TTR        1179      0.726433         444      0.273567   \n",
      "4  Week 44 TTR        1106      0.696035         483      0.303965   \n",
      "5  Week 43 TTR        1198      0.691686         534      0.308314   \n",
      "6  Week 42 TTR        1356      0.718220         532      0.281780   \n",
      "7  Week 41 TTR        1608      0.745826         548      0.254174   \n",
      "8  Week 40 TTR        1690      0.725945         638      0.274055   \n",
      "\n",
      "   Total Tickets  \n",
      "0           1280  \n",
      "1           1576  \n",
      "2           1650  \n",
      "3           1623  \n",
      "4           1589  \n",
      "5           1732  \n",
      "6           1888  \n",
      "7           2156  \n",
      "8           2328  \n"
     ]
    }
   ],
   "source": [
    "pd.set_option('display.max_rows', df.shape[0]+1)\n",
    "print(df)"
   ]
  },
  {
   "cell_type": "code",
   "execution_count": 3,
   "metadata": {},
   "outputs": [
    {
     "data": {
      "text/html": [
       "<div>\n",
       "<style scoped>\n",
       "    .dataframe tbody tr th:only-of-type {\n",
       "        vertical-align: middle;\n",
       "    }\n",
       "\n",
       "    .dataframe tbody tr th {\n",
       "        vertical-align: top;\n",
       "    }\n",
       "\n",
       "    .dataframe thead th {\n",
       "        text-align: right;\n",
       "    }\n",
       "</style>\n",
       "<table border=\"1\" class=\"dataframe\">\n",
       "  <thead>\n",
       "    <tr style=\"text-align: right;\">\n",
       "      <th></th>\n",
       "      <th>WithIn TAT</th>\n",
       "      <th>WithIn TAT %</th>\n",
       "      <th>Beyond TAT</th>\n",
       "      <th>Beyond TAT %</th>\n",
       "      <th>Total Tickets</th>\n",
       "    </tr>\n",
       "  </thead>\n",
       "  <tbody>\n",
       "    <tr>\n",
       "      <th>WithIn TAT</th>\n",
       "      <td>1.000000</td>\n",
       "      <td>0.162014</td>\n",
       "      <td>0.846477</td>\n",
       "      <td>-0.162014</td>\n",
       "      <td>0.988076</td>\n",
       "    </tr>\n",
       "    <tr>\n",
       "      <th>WithIn TAT %</th>\n",
       "      <td>0.162014</td>\n",
       "      <td>1.000000</td>\n",
       "      <td>-0.385916</td>\n",
       "      <td>-1.000000</td>\n",
       "      <td>0.008826</td>\n",
       "    </tr>\n",
       "    <tr>\n",
       "      <th>Beyond TAT</th>\n",
       "      <td>0.846477</td>\n",
       "      <td>-0.385916</td>\n",
       "      <td>1.000000</td>\n",
       "      <td>0.385916</td>\n",
       "      <td>0.918359</td>\n",
       "    </tr>\n",
       "    <tr>\n",
       "      <th>Beyond TAT %</th>\n",
       "      <td>-0.162014</td>\n",
       "      <td>-1.000000</td>\n",
       "      <td>0.385916</td>\n",
       "      <td>1.000000</td>\n",
       "      <td>-0.008826</td>\n",
       "    </tr>\n",
       "    <tr>\n",
       "      <th>Total Tickets</th>\n",
       "      <td>0.988076</td>\n",
       "      <td>0.008826</td>\n",
       "      <td>0.918359</td>\n",
       "      <td>-0.008826</td>\n",
       "      <td>1.000000</td>\n",
       "    </tr>\n",
       "  </tbody>\n",
       "</table>\n",
       "</div>"
      ],
      "text/plain": [
       "               WithIn TAT  WithIn TAT %  Beyond TAT  Beyond TAT %  \\\n",
       "WithIn TAT       1.000000      0.162014    0.846477     -0.162014   \n",
       "WithIn TAT %     0.162014      1.000000   -0.385916     -1.000000   \n",
       "Beyond TAT       0.846477     -0.385916    1.000000      0.385916   \n",
       "Beyond TAT %    -0.162014     -1.000000    0.385916      1.000000   \n",
       "Total Tickets    0.988076      0.008826    0.918359     -0.008826   \n",
       "\n",
       "               Total Tickets  \n",
       "WithIn TAT          0.988076  \n",
       "WithIn TAT %        0.008826  \n",
       "Beyond TAT          0.918359  \n",
       "Beyond TAT %       -0.008826  \n",
       "Total Tickets       1.000000  "
      ]
     },
     "execution_count": 3,
     "metadata": {},
     "output_type": "execute_result"
    }
   ],
   "source": [
    "df.corr(method ='pearson')"
   ]
  }
 ],
 "metadata": {
  "interpreter": {
   "hash": "f13d601dd69d4c7f1e4b4f617fdf123b80d3183cb8be10898de0914b322cec78"
  },
  "kernelspec": {
   "display_name": "Python 3.9.6 64-bit",
   "language": "python",
   "name": "python3"
  },
  "language_info": {
   "codemirror_mode": {
    "name": "ipython",
    "version": 3
   },
   "file_extension": ".py",
   "mimetype": "text/x-python",
   "name": "python",
   "nbconvert_exporter": "python",
   "pygments_lexer": "ipython3",
   "version": "3.9.6"
  },
  "orig_nbformat": 4
 },
 "nbformat": 4,
 "nbformat_minor": 2
}
