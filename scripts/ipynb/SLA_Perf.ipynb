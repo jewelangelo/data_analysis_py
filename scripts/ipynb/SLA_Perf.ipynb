{
 "cells": [
  {
   "cell_type": "markdown",
   "metadata": {},
   "source": [
    "Load libraries and create df"
   ]
  },
  {
   "cell_type": "code",
   "execution_count": 1,
   "metadata": {},
   "outputs": [],
   "source": [
    "import pandas as pd\n",
    "from IPython.display import display\n",
    "import os\n",
    "import shutil\n",
    "path = os.chdir('C:/Users/jewel.espiritu/OneDrive - AMDATEX LAS PINAS SERVICES INC/Python/py')\n",
    "sladf = pd.concat(pd.read_excel('./data/WeeklySLA_Data_2022.xlsx', sheet_name=None), ignore_index=True)"
   ]
  },
  {
   "cell_type": "markdown",
   "metadata": {},
   "source": [
    "Filter the current Week then rename the TTO and TTR column. Then insert new columns needed for the later part"
   ]
  },
  {
   "cell_type": "markdown",
   "metadata": {},
   "source": [
    "Make sure that nnewdf = sladf[sladf['Week']==24] <-- current work week is updated"
   ]
  },
  {
   "cell_type": "code",
   "execution_count": 2,
   "metadata": {},
   "outputs": [],
   "source": [
    "nnewdf = sladf[sladf['Week']==26]\n",
    "nnewdf = nnewdf.rename( columns = {'TTR Result\\n(Excluding Pending Time)': 'TTR'}, inplace = False)\n",
    "nnewdf = nnewdf.rename( columns = {'TTO Result (Overall)': 'TTO'}, inplace = False )\n",
    "\n",
    "nnewdf.insert(48, \"MetricTTR\",\"TTR Overall\", False) #Helper Column\n",
    "nnewdf.insert(49, \"MetricTTO\",\"TTO Overall\", False) #Helper Column\n"
   ]
  },
  {
   "cell_type": "markdown",
   "metadata": {},
   "source": [
    "Create a pivot for TTR and TTO"
   ]
  },
  {
   "cell_type": "code",
   "execution_count": 3,
   "metadata": {},
   "outputs": [],
   "source": [
    "TTRpivot = pd.pivot_table(nnewdf, index=['MetricTTR'], columns=['TTR',], values=['Ticket No'], aggfunc='count')\n",
    "TTOpivot = pd.pivot_table(nnewdf, index=['MetricTTO'], columns=['TTO',], values=['Ticket No'], aggfunc='count')\n"
   ]
  },
  {
   "cell_type": "markdown",
   "metadata": {},
   "source": [
    "Remove the unwanted column level of the pivot table"
   ]
  },
  {
   "cell_type": "code",
   "execution_count": 4,
   "metadata": {},
   "outputs": [],
   "source": [
    "TTRpivot.columns = TTRpivot.columns.droplevel(0)\n",
    "TTRpivot.columns.name = None\n",
    "TTRdf = TTRpivot.reset_index()\n",
    "\n",
    "TTOpivot.columns = TTOpivot.columns.droplevel(0)\n",
    "TTOpivot.columns.name = None\n",
    "TTOdf = TTOpivot.reset_index()\n"
   ]
  },
  {
   "cell_type": "markdown",
   "metadata": {},
   "source": [
    "Compute the percentage of TTR and TTO"
   ]
  },
  {
   "cell_type": "code",
   "execution_count": 5,
   "metadata": {},
   "outputs": [],
   "source": [
    "TTRBeyond = TTRdf[\"Beyond TAT\"].astype(int)\n",
    "TTRWithin = TTRdf[\"Within TAT\"].astype(int)\n",
    "TTRsum = TTRBeyond + TTRWithin\n",
    "TTRdf[\"Beyond TAT Percent\"] = TTRBeyond / TTRsum\n",
    "TTRdf[\"Within TAT Percent\"] = TTRWithin / TTRsum\n",
    "\n",
    "TTOBeyond = TTOdf[\"Beyond TAT\"].astype(int)\n",
    "TTOWithin = TTOdf[\"Within TAT\"].astype(int)\n",
    "TTOsum = TTOBeyond + TTOWithin\n",
    "TTOdf[\"Beyond TAT Percent\"] = TTOBeyond / TTRsum\n",
    "TTOdf[\"Within TAT Percent\"] = TTOWithin / TTRsum"
   ]
  },
  {
   "cell_type": "markdown",
   "metadata": {},
   "source": [
    "Merge the 2 separate table into 1"
   ]
  },
  {
   "cell_type": "code",
   "execution_count": 6,
   "metadata": {},
   "outputs": [
    {
     "data": {
      "text/html": [
       "<div>\n",
       "<style scoped>\n",
       "    .dataframe tbody tr th:only-of-type {\n",
       "        vertical-align: middle;\n",
       "    }\n",
       "\n",
       "    .dataframe tbody tr th {\n",
       "        vertical-align: top;\n",
       "    }\n",
       "\n",
       "    .dataframe thead th {\n",
       "        text-align: right;\n",
       "    }\n",
       "</style>\n",
       "<table border=\"1\" class=\"dataframe\">\n",
       "  <thead>\n",
       "    <tr style=\"text-align: right;\">\n",
       "      <th></th>\n",
       "      <th>Metric</th>\n",
       "      <th>Beyond TAT</th>\n",
       "      <th>Within TAT</th>\n",
       "      <th>Beyond TAT Percent</th>\n",
       "      <th>Within TAT Percent</th>\n",
       "    </tr>\n",
       "  </thead>\n",
       "  <tbody>\n",
       "    <tr>\n",
       "      <th>0</th>\n",
       "      <td>TTR Overall</td>\n",
       "      <td>456</td>\n",
       "      <td>1196</td>\n",
       "      <td>0.276029</td>\n",
       "      <td>0.723971</td>\n",
       "    </tr>\n",
       "    <tr>\n",
       "      <th>0</th>\n",
       "      <td>TTO Overall</td>\n",
       "      <td>250</td>\n",
       "      <td>1401</td>\n",
       "      <td>0.151332</td>\n",
       "      <td>0.848063</td>\n",
       "    </tr>\n",
       "  </tbody>\n",
       "</table>\n",
       "</div>"
      ],
      "text/plain": [
       "        Metric  Beyond TAT  Within TAT  Beyond TAT Percent  Within TAT Percent\n",
       "0  TTR Overall         456        1196            0.276029            0.723971\n",
       "0  TTO Overall         250        1401            0.151332            0.848063"
      ]
     },
     "metadata": {},
     "output_type": "display_data"
    }
   ],
   "source": [
    "TTRdf = TTRdf.rename( columns = {'MetricTTR': 'Metric'})\n",
    "\n",
    "TTOdf = TTOdf.rename( columns = {'MetricTTO': 'Metric'})\n",
    "\n",
    "frames = [TTRdf, TTOdf]\n",
    "  \n",
    "SLA_perf = pd.concat(frames)\n",
    "display(SLA_perf)\n"
   ]
  },
  {
   "cell_type": "markdown",
   "metadata": {},
   "source": [
    "Save the df into an excel file "
   ]
  },
  {
   "cell_type": "code",
   "execution_count": 9,
   "metadata": {},
   "outputs": [],
   "source": [
    "FilePath = r'C:\\repo\\SLA_Perf.xlsx'\n",
    "# Create a Pandas Excel writer using XlsxWriter as the engine.\n",
    "writer = pd.ExcelWriter(FilePath, engine='xlsxwriter')\n",
    "\n",
    "# Convert the dataframe to an XlsxWriter Excel object.\n",
    "SLA_perf.to_excel(writer, sheet_name='SLA', index = False)\n",
    "writer.save()\n"
   ]
  }
 ],
 "metadata": {
  "interpreter": {
   "hash": "d49c3f6d6dd49f9272b571d9fad348ab55b8c6c3f691520d74ed0af1f69c3dd8"
  },
  "kernelspec": {
   "display_name": "Python 3.7.8 64-bit",
   "language": "python",
   "name": "python3"
  },
  "language_info": {
   "codemirror_mode": {
    "name": "ipython",
    "version": 3
   },
   "file_extension": ".py",
   "mimetype": "text/x-python",
   "name": "python",
   "nbconvert_exporter": "python",
   "pygments_lexer": "ipython3",
   "version": "3.7.8"
  },
  "orig_nbformat": 4
 },
 "nbformat": 4,
 "nbformat_minor": 2
}
