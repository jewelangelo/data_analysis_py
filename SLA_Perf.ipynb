{
 "cells": [
  {
   "cell_type": "code",
   "execution_count": 2,
   "metadata": {},
   "outputs": [],
   "source": [
    "import pandas as pd\n",
    "from IPython.display import display\n",
    "import os\n",
    "import shutil\n",
    "path = os.chdir('C:/Users/jewel.espiritu/OneDrive - AMDATEX LAS PINAS SERVICES INC/Python/py')\n",
    "sladf = pd.concat(pd.read_excel('./data/WeeklySLA_Data_2022.xlsx', sheet_name=None), ignore_index=True)"
   ]
  },
  {
   "cell_type": "code",
   "execution_count": 3,
   "metadata": {},
   "outputs": [],
   "source": [
    "nnewdf = sladf[sladf['Week']==23]\n",
    "nnewdf = nnewdf.rename( columns = {'TTR Result\\n(Excluding Pending Time)': 'TTR'}, inplace = False)\n",
    "nnewdf = nnewdf.rename( columns = {'TTO Result (Overall)': 'TTO'}, inplace = False )\n",
    "\n",
    "nnewdf.insert(48, \"MetricTTR\",\"TTR Overall\", False) #Helper Column\n",
    "nnewdf.insert(49, \"MetricTTO\",\"TTO Overall\", False) #Helper Column\n"
   ]
  },
  {
   "cell_type": "code",
   "execution_count": 4,
   "metadata": {},
   "outputs": [
    {
     "data": {
      "text/html": [
       "<div>\n",
       "<style scoped>\n",
       "    .dataframe tbody tr th:only-of-type {\n",
       "        vertical-align: middle;\n",
       "    }\n",
       "\n",
       "    .dataframe tbody tr th {\n",
       "        vertical-align: top;\n",
       "    }\n",
       "\n",
       "    .dataframe thead tr th {\n",
       "        text-align: left;\n",
       "    }\n",
       "\n",
       "    .dataframe thead tr:last-of-type th {\n",
       "        text-align: right;\n",
       "    }\n",
       "</style>\n",
       "<table border=\"1\" class=\"dataframe\">\n",
       "  <thead>\n",
       "    <tr>\n",
       "      <th></th>\n",
       "      <th colspan=\"2\" halign=\"left\">Ticket No</th>\n",
       "    </tr>\n",
       "    <tr>\n",
       "      <th>TTR</th>\n",
       "      <th>Beyond TAT</th>\n",
       "      <th>Within TAT</th>\n",
       "    </tr>\n",
       "    <tr>\n",
       "      <th>MetricTTR</th>\n",
       "      <th></th>\n",
       "      <th></th>\n",
       "    </tr>\n",
       "  </thead>\n",
       "  <tbody>\n",
       "    <tr>\n",
       "      <th>TTR Overall</th>\n",
       "      <td>617</td>\n",
       "      <td>1521</td>\n",
       "    </tr>\n",
       "  </tbody>\n",
       "</table>\n",
       "</div>"
      ],
      "text/plain": [
       "             Ticket No           \n",
       "TTR         Beyond TAT Within TAT\n",
       "MetricTTR                        \n",
       "TTR Overall        617       1521"
      ]
     },
     "execution_count": 4,
     "metadata": {},
     "output_type": "execute_result"
    }
   ],
   "source": [
    "TTRpivot = pd.pivot_table(nnewdf, index=['MetricTTR'], columns=['TTR',], values=['Ticket No'], aggfunc='count')\n",
    "TTRpivot\n"
   ]
  },
  {
   "cell_type": "code",
   "execution_count": 5,
   "metadata": {},
   "outputs": [
    {
     "data": {
      "text/html": [
       "<div>\n",
       "<style scoped>\n",
       "    .dataframe tbody tr th:only-of-type {\n",
       "        vertical-align: middle;\n",
       "    }\n",
       "\n",
       "    .dataframe tbody tr th {\n",
       "        vertical-align: top;\n",
       "    }\n",
       "\n",
       "    .dataframe thead tr th {\n",
       "        text-align: left;\n",
       "    }\n",
       "\n",
       "    .dataframe thead tr:last-of-type th {\n",
       "        text-align: right;\n",
       "    }\n",
       "</style>\n",
       "<table border=\"1\" class=\"dataframe\">\n",
       "  <thead>\n",
       "    <tr>\n",
       "      <th></th>\n",
       "      <th colspan=\"2\" halign=\"left\">Ticket No</th>\n",
       "    </tr>\n",
       "    <tr>\n",
       "      <th>TTO</th>\n",
       "      <th>Beyond TAT</th>\n",
       "      <th>Within TAT</th>\n",
       "    </tr>\n",
       "    <tr>\n",
       "      <th>MetricTTO</th>\n",
       "      <th></th>\n",
       "      <th></th>\n",
       "    </tr>\n",
       "  </thead>\n",
       "  <tbody>\n",
       "    <tr>\n",
       "      <th>TTO Overall</th>\n",
       "      <td>301</td>\n",
       "      <td>1837</td>\n",
       "    </tr>\n",
       "  </tbody>\n",
       "</table>\n",
       "</div>"
      ],
      "text/plain": [
       "             Ticket No           \n",
       "TTO         Beyond TAT Within TAT\n",
       "MetricTTO                        \n",
       "TTO Overall        301       1837"
      ]
     },
     "execution_count": 5,
     "metadata": {},
     "output_type": "execute_result"
    }
   ],
   "source": [
    "TTOpivot = pd.pivot_table(nnewdf, index=['MetricTTO'], columns=['TTO',], values=['Ticket No'], aggfunc='count')\n",
    "TTOpivot\n"
   ]
  },
  {
   "cell_type": "code",
   "execution_count": 6,
   "metadata": {},
   "outputs": [],
   "source": [
    "TTRpivot.columns = TTRpivot.columns.droplevel(0)\n",
    "TTRpivot.columns.name = None\n",
    "TTRdf = TTRpivot.reset_index()\n",
    "\n",
    "TTOpivot.columns = TTOpivot.columns.droplevel(0)\n",
    "TTOpivot.columns.name = None\n",
    "TTOdf = TTOpivot.reset_index()\n"
   ]
  },
  {
   "cell_type": "code",
   "execution_count": 7,
   "metadata": {},
   "outputs": [],
   "source": [
    "TTRBeyond = TTRdf[\"Beyond TAT\"].astype(int)\n",
    "TTRWithin = TTRdf[\"Within TAT\"].astype(int)\n",
    "TTRsum = TTRBeyond + TTRWithin\n",
    "TTRdf[\"Beyond TAT Percent\"] = TTRBeyond / TTRsum\n",
    "TTRdf[\"Within TAT Percent\"] = TTRWithin / TTRsum\n",
    "\n",
    "TTOBeyond = TTOdf[\"Beyond TAT\"].astype(int)\n",
    "TTOWithin = TTOdf[\"Within TAT\"].astype(int)\n",
    "TTOsum = TTOBeyond + TTOWithin\n",
    "TTOdf[\"Beyond TAT Percent\"] = TTOBeyond / TTRsum\n",
    "TTOdf[\"Within TAT Percent\"] = TTOWithin / TTRsum"
   ]
  },
  {
   "cell_type": "code",
   "execution_count": 8,
   "metadata": {},
   "outputs": [],
   "source": [
    "TTRdf = TTRdf.rename( columns = {'MetricTTR': 'Metric'})\n",
    "\n",
    "TTOdf = TTOdf.rename( columns = {'MetricTTO': 'Metric'})\n"
   ]
  },
  {
   "cell_type": "code",
   "execution_count": 9,
   "metadata": {},
   "outputs": [
    {
     "data": {
      "text/html": [
       "<div>\n",
       "<style scoped>\n",
       "    .dataframe tbody tr th:only-of-type {\n",
       "        vertical-align: middle;\n",
       "    }\n",
       "\n",
       "    .dataframe tbody tr th {\n",
       "        vertical-align: top;\n",
       "    }\n",
       "\n",
       "    .dataframe thead th {\n",
       "        text-align: right;\n",
       "    }\n",
       "</style>\n",
       "<table border=\"1\" class=\"dataframe\">\n",
       "  <thead>\n",
       "    <tr style=\"text-align: right;\">\n",
       "      <th></th>\n",
       "      <th>Metric</th>\n",
       "      <th>Beyond TAT</th>\n",
       "      <th>Within TAT</th>\n",
       "      <th>Beyond TAT Percent</th>\n",
       "      <th>Within TAT Percent</th>\n",
       "    </tr>\n",
       "  </thead>\n",
       "  <tbody>\n",
       "    <tr>\n",
       "      <th>0</th>\n",
       "      <td>TTR Overall</td>\n",
       "      <td>617</td>\n",
       "      <td>1521</td>\n",
       "      <td>0.288587</td>\n",
       "      <td>0.711413</td>\n",
       "    </tr>\n",
       "    <tr>\n",
       "      <th>0</th>\n",
       "      <td>TTO Overall</td>\n",
       "      <td>301</td>\n",
       "      <td>1837</td>\n",
       "      <td>0.140786</td>\n",
       "      <td>0.859214</td>\n",
       "    </tr>\n",
       "  </tbody>\n",
       "</table>\n",
       "</div>"
      ],
      "text/plain": [
       "        Metric  Beyond TAT  Within TAT  Beyond TAT Percent  Within TAT Percent\n",
       "0  TTR Overall         617        1521            0.288587            0.711413\n",
       "0  TTO Overall         301        1837            0.140786            0.859214"
      ]
     },
     "metadata": {},
     "output_type": "display_data"
    }
   ],
   "source": [
    "frames = [TTRdf, TTOdf]\n",
    "  \n",
    "SLA_perf = pd.concat(frames)\n",
    "display(SLA_perf)"
   ]
  },
  {
   "cell_type": "code",
   "execution_count": 10,
   "metadata": {},
   "outputs": [],
   "source": [
    "FilePath = r'C:\\repo\\SLA_Perf.xlsx'\n",
    "# Create a Pandas Excel writer using XlsxWriter as the engine.\n",
    "writer = pd.ExcelWriter(FilePath, engine='xlsxwriter')\n",
    "\n",
    "# Convert the dataframe to an XlsxWriter Excel object.\n",
    "SLA_perf.to_excel(writer, sheet_name='SLA', index = False)\n",
    "writer.save()\n"
   ]
  }
 ],
 "metadata": {
  "interpreter": {
   "hash": "d49c3f6d6dd49f9272b571d9fad348ab55b8c6c3f691520d74ed0af1f69c3dd8"
  },
  "kernelspec": {
   "display_name": "Python 3.7.8 64-bit",
   "language": "python",
   "name": "python3"
  },
  "language_info": {
   "codemirror_mode": {
    "name": "ipython",
    "version": 3
   },
   "file_extension": ".py",
   "mimetype": "text/x-python",
   "name": "python",
   "nbconvert_exporter": "python",
   "pygments_lexer": "ipython3",
   "version": "3.7.8"
  },
  "orig_nbformat": 4
 },
 "nbformat": 4,
 "nbformat_minor": 2
}
