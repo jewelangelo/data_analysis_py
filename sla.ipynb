{
 "cells": [
  {
   "cell_type": "markdown",
   "metadata": {},
   "source": [
    "### Import all the libraries and load the dfs needed"
   ]
  },
  {
   "cell_type": "code",
   "execution_count": 11,
   "metadata": {},
   "outputs": [],
   "source": [
    "import pandas as pd\n",
    "import numpy as np\n",
    "import matplotlib as mpl\n",
    "import matplotlib.pyplot as plt"
   ]
  },
  {
   "cell_type": "code",
   "execution_count": 12,
   "metadata": {},
   "outputs": [],
   "source": [
    "import plotly.express as px\n",
    "import plotly.graph_objects as go\n",
    "from plotly.subplots import make_subplots"
   ]
  },
  {
   "cell_type": "code",
   "execution_count": 13,
   "metadata": {},
   "outputs": [],
   "source": [
    "import os\n",
    "path = os.chdir('C:/Users/jewel.espiritu/OneDrive - AMDATEX LAS PINAS SERVICES INC/Python/py')"
   ]
  },
  {
   "cell_type": "markdown",
   "metadata": {},
   "source": [
    "### Merge all excel sheet into one Dataframe"
   ]
  },
  {
   "cell_type": "code",
   "execution_count": 14,
   "metadata": {},
   "outputs": [],
   "source": [
    "sladf = pd.concat(pd.read_excel('./data/WeeklySLA_Data_2022.xlsx', sheet_name=None), ignore_index=True)\n"
   ]
  },
  {
   "cell_type": "markdown",
   "metadata": {},
   "source": [
    "### Create a pivot table and exclude tickets older than 14 days"
   ]
  },
  {
   "cell_type": "code",
   "execution_count": 15,
   "metadata": {},
   "outputs": [],
   "source": [
    "SLApivot = pd.pivot_table(sladf, index=['Service', 'Olderthan14', 'Week'], columns=['TTR Result\\n(Excluding Pending Time)'], values=['Ticket No'], aggfunc='count')\n",
    "paretopvt = SLApivot.query('Olderthan14==\"N\"')"
   ]
  },
  {
   "cell_type": "markdown",
   "metadata": {},
   "source": [
    "### drop the extra columns of the pivot"
   ]
  },
  {
   "cell_type": "code",
   "execution_count": 16,
   "metadata": {},
   "outputs": [],
   "source": [
    "paretopvt.columns = paretopvt.columns.droplevel(0)\n",
    "paretopvt.columns.name = None\n",
    "newdf = paretopvt.reset_index()\n"
   ]
  },
  {
   "cell_type": "markdown",
   "metadata": {},
   "source": [
    "### Turn NaN values into 0 and Remove decimal using lambda"
   ]
  },
  {
   "cell_type": "code",
   "execution_count": 17,
   "metadata": {},
   "outputs": [
    {
     "data": {
      "text/html": [
       "<div>\n",
       "<style scoped>\n",
       "    .dataframe tbody tr th:only-of-type {\n",
       "        vertical-align: middle;\n",
       "    }\n",
       "\n",
       "    .dataframe tbody tr th {\n",
       "        vertical-align: top;\n",
       "    }\n",
       "\n",
       "    .dataframe thead th {\n",
       "        text-align: right;\n",
       "    }\n",
       "</style>\n",
       "<table border=\"1\" class=\"dataframe\">\n",
       "  <thead>\n",
       "    <tr style=\"text-align: right;\">\n",
       "      <th></th>\n",
       "      <th>Service</th>\n",
       "      <th>Olderthan14</th>\n",
       "      <th>Week</th>\n",
       "      <th>Beyond TAT</th>\n",
       "      <th>Within TAT</th>\n",
       "    </tr>\n",
       "  </thead>\n",
       "  <tbody>\n",
       "    <tr>\n",
       "      <th>0</th>\n",
       "      <td>3rd Party/ Client Controlled Software, Network...</td>\n",
       "      <td>N</td>\n",
       "      <td>1</td>\n",
       "      <td>9</td>\n",
       "      <td>173</td>\n",
       "    </tr>\n",
       "    <tr>\n",
       "      <th>1</th>\n",
       "      <td>3rd Party/ Client Controlled Software, Network...</td>\n",
       "      <td>N</td>\n",
       "      <td>2</td>\n",
       "      <td>35</td>\n",
       "      <td>226</td>\n",
       "    </tr>\n",
       "    <tr>\n",
       "      <th>2</th>\n",
       "      <td>3rd Party/ Client Controlled Software, Network...</td>\n",
       "      <td>N</td>\n",
       "      <td>3</td>\n",
       "      <td>13</td>\n",
       "      <td>83</td>\n",
       "    </tr>\n",
       "    <tr>\n",
       "      <th>3</th>\n",
       "      <td>3rd Party/ Client Controlled Software, Network...</td>\n",
       "      <td>N</td>\n",
       "      <td>4</td>\n",
       "      <td>9</td>\n",
       "      <td>161</td>\n",
       "    </tr>\n",
       "    <tr>\n",
       "      <th>4</th>\n",
       "      <td>3rd Party/ Client Controlled Software, Network...</td>\n",
       "      <td>N</td>\n",
       "      <td>5</td>\n",
       "      <td>27</td>\n",
       "      <td>102</td>\n",
       "    </tr>\n",
       "    <tr>\n",
       "      <th>...</th>\n",
       "      <td>...</td>\n",
       "      <td>...</td>\n",
       "      <td>...</td>\n",
       "      <td>...</td>\n",
       "      <td>...</td>\n",
       "    </tr>\n",
       "    <tr>\n",
       "      <th>163</th>\n",
       "      <td>WFH PC setup</td>\n",
       "      <td>N</td>\n",
       "      <td>6</td>\n",
       "      <td>11</td>\n",
       "      <td>43</td>\n",
       "    </tr>\n",
       "    <tr>\n",
       "      <th>164</th>\n",
       "      <td>WFH PC setup</td>\n",
       "      <td>N</td>\n",
       "      <td>7</td>\n",
       "      <td>10</td>\n",
       "      <td>45</td>\n",
       "    </tr>\n",
       "    <tr>\n",
       "      <th>165</th>\n",
       "      <td>WFH PC setup</td>\n",
       "      <td>N</td>\n",
       "      <td>8</td>\n",
       "      <td>6</td>\n",
       "      <td>29</td>\n",
       "    </tr>\n",
       "    <tr>\n",
       "      <th>166</th>\n",
       "      <td>WFH PC setup</td>\n",
       "      <td>N</td>\n",
       "      <td>9</td>\n",
       "      <td>13</td>\n",
       "      <td>42</td>\n",
       "    </tr>\n",
       "    <tr>\n",
       "      <th>167</th>\n",
       "      <td>WFH PC setup</td>\n",
       "      <td>N</td>\n",
       "      <td>10</td>\n",
       "      <td>12</td>\n",
       "      <td>46</td>\n",
       "    </tr>\n",
       "  </tbody>\n",
       "</table>\n",
       "<p>168 rows × 5 columns</p>\n",
       "</div>"
      ],
      "text/plain": [
       "                                               Service Olderthan14  Week  \\\n",
       "0    3rd Party/ Client Controlled Software, Network...           N     1   \n",
       "1    3rd Party/ Client Controlled Software, Network...           N     2   \n",
       "2    3rd Party/ Client Controlled Software, Network...           N     3   \n",
       "3    3rd Party/ Client Controlled Software, Network...           N     4   \n",
       "4    3rd Party/ Client Controlled Software, Network...           N     5   \n",
       "..                                                 ...         ...   ...   \n",
       "163                                       WFH PC setup           N     6   \n",
       "164                                       WFH PC setup           N     7   \n",
       "165                                       WFH PC setup           N     8   \n",
       "166                                       WFH PC setup           N     9   \n",
       "167                                       WFH PC setup           N    10   \n",
       "\n",
       "    Beyond TAT Within TAT  \n",
       "0            9        173  \n",
       "1           35        226  \n",
       "2           13         83  \n",
       "3            9        161  \n",
       "4           27        102  \n",
       "..         ...        ...  \n",
       "163         11         43  \n",
       "164         10         45  \n",
       "165          6         29  \n",
       "166         13         42  \n",
       "167         12         46  \n",
       "\n",
       "[168 rows x 5 columns]"
      ]
     },
     "execution_count": 17,
     "metadata": {},
     "output_type": "execute_result"
    }
   ],
   "source": [
    "newdf['Beyond TAT'] = newdf['Beyond TAT'].fillna(0)\n",
    "newdf['Within TAT'] = newdf['Within TAT'].fillna(0)\n",
    "\n",
    "newdf['Beyond TAT'] = newdf['Beyond TAT'].astype(str).apply(lambda x: x.replace('.0',''))\n",
    "newdf['Within TAT'] = newdf['Within TAT'].astype(str).apply(lambda x: x.replace('.0',''))\n",
    "\n",
    "newdf"
   ]
  },
  {
   "cell_type": "markdown",
   "metadata": {},
   "source": [
    "### Filter the df into current week only"
   ]
  },
  {
   "cell_type": "code",
   "execution_count": 18,
   "metadata": {},
   "outputs": [
    {
     "data": {
      "text/html": [
       "<div>\n",
       "<style scoped>\n",
       "    .dataframe tbody tr th:only-of-type {\n",
       "        vertical-align: middle;\n",
       "    }\n",
       "\n",
       "    .dataframe tbody tr th {\n",
       "        vertical-align: top;\n",
       "    }\n",
       "\n",
       "    .dataframe thead th {\n",
       "        text-align: right;\n",
       "    }\n",
       "</style>\n",
       "<table border=\"1\" class=\"dataframe\">\n",
       "  <thead>\n",
       "    <tr style=\"text-align: right;\">\n",
       "      <th></th>\n",
       "      <th>Service</th>\n",
       "      <th>Olderthan14</th>\n",
       "      <th>Week</th>\n",
       "      <th>Beyond TAT</th>\n",
       "      <th>Within TAT</th>\n",
       "    </tr>\n",
       "  </thead>\n",
       "  <tbody>\n",
       "    <tr>\n",
       "      <th>9</th>\n",
       "      <td>3rd Party/ Client Controlled Software, Network...</td>\n",
       "      <td>N</td>\n",
       "      <td>10</td>\n",
       "      <td>18</td>\n",
       "      <td>139</td>\n",
       "    </tr>\n",
       "    <tr>\n",
       "      <th>19</th>\n",
       "      <td>Access</td>\n",
       "      <td>N</td>\n",
       "      <td>10</td>\n",
       "      <td>36</td>\n",
       "      <td>215</td>\n",
       "    </tr>\n",
       "    <tr>\n",
       "      <th>29</th>\n",
       "      <td>Email</td>\n",
       "      <td>N</td>\n",
       "      <td>10</td>\n",
       "      <td>11</td>\n",
       "      <td>55</td>\n",
       "    </tr>\n",
       "    <tr>\n",
       "      <th>39</th>\n",
       "      <td>Hardware</td>\n",
       "      <td>N</td>\n",
       "      <td>10</td>\n",
       "      <td>30</td>\n",
       "      <td>151</td>\n",
       "    </tr>\n",
       "    <tr>\n",
       "      <th>49</th>\n",
       "      <td>IT software assessment, evaluation and testing</td>\n",
       "      <td>N</td>\n",
       "      <td>10</td>\n",
       "      <td>0</td>\n",
       "      <td>6</td>\n",
       "    </tr>\n",
       "    <tr>\n",
       "      <th>57</th>\n",
       "      <td>IT software transferring</td>\n",
       "      <td>N</td>\n",
       "      <td>10</td>\n",
       "      <td>2</td>\n",
       "      <td>6</td>\n",
       "    </tr>\n",
       "    <tr>\n",
       "      <th>66</th>\n",
       "      <td>MAJOR Incident (BSD System/Application)</td>\n",
       "      <td>N</td>\n",
       "      <td>10</td>\n",
       "      <td>1</td>\n",
       "      <td>0</td>\n",
       "    </tr>\n",
       "    <tr>\n",
       "      <th>76</th>\n",
       "      <td>MINOR Incident (BSD System/Application)</td>\n",
       "      <td>N</td>\n",
       "      <td>10</td>\n",
       "      <td>1</td>\n",
       "      <td>1</td>\n",
       "    </tr>\n",
       "    <tr>\n",
       "      <th>86</th>\n",
       "      <td>Network or internet</td>\n",
       "      <td>N</td>\n",
       "      <td>10</td>\n",
       "      <td>2</td>\n",
       "      <td>14</td>\n",
       "    </tr>\n",
       "    <tr>\n",
       "      <th>96</th>\n",
       "      <td>Onboarding Employee's IT-related Access and Ha...</td>\n",
       "      <td>N</td>\n",
       "      <td>10</td>\n",
       "      <td>0</td>\n",
       "      <td>19</td>\n",
       "    </tr>\n",
       "    <tr>\n",
       "      <th>98</th>\n",
       "      <td>Online conference setup/ recording</td>\n",
       "      <td>N</td>\n",
       "      <td>10</td>\n",
       "      <td>0</td>\n",
       "      <td>4</td>\n",
       "    </tr>\n",
       "    <tr>\n",
       "      <th>108</th>\n",
       "      <td>Password Reset of Accounts Locally Administered</td>\n",
       "      <td>N</td>\n",
       "      <td>10</td>\n",
       "      <td>0</td>\n",
       "      <td>11</td>\n",
       "    </tr>\n",
       "    <tr>\n",
       "      <th>118</th>\n",
       "      <td>Resignee's Clearance Processing</td>\n",
       "      <td>N</td>\n",
       "      <td>10</td>\n",
       "      <td>0</td>\n",
       "      <td>18</td>\n",
       "    </tr>\n",
       "    <tr>\n",
       "      <th>129</th>\n",
       "      <td>Server</td>\n",
       "      <td>N</td>\n",
       "      <td>10</td>\n",
       "      <td>1</td>\n",
       "      <td>9</td>\n",
       "    </tr>\n",
       "    <tr>\n",
       "      <th>137</th>\n",
       "      <td>Service Request (BSD System/Application)</td>\n",
       "      <td>N</td>\n",
       "      <td>10</td>\n",
       "      <td>1</td>\n",
       "      <td>2</td>\n",
       "    </tr>\n",
       "    <tr>\n",
       "      <th>147</th>\n",
       "      <td>Software</td>\n",
       "      <td>N</td>\n",
       "      <td>10</td>\n",
       "      <td>23</td>\n",
       "      <td>117</td>\n",
       "    </tr>\n",
       "    <tr>\n",
       "      <th>157</th>\n",
       "      <td>Telephony</td>\n",
       "      <td>N</td>\n",
       "      <td>10</td>\n",
       "      <td>0</td>\n",
       "      <td>4</td>\n",
       "    </tr>\n",
       "    <tr>\n",
       "      <th>167</th>\n",
       "      <td>WFH PC setup</td>\n",
       "      <td>N</td>\n",
       "      <td>10</td>\n",
       "      <td>12</td>\n",
       "      <td>46</td>\n",
       "    </tr>\n",
       "  </tbody>\n",
       "</table>\n",
       "</div>"
      ],
      "text/plain": [
       "                                               Service Olderthan14  Week  \\\n",
       "9    3rd Party/ Client Controlled Software, Network...           N    10   \n",
       "19                                              Access           N    10   \n",
       "29                                               Email           N    10   \n",
       "39                                            Hardware           N    10   \n",
       "49      IT software assessment, evaluation and testing           N    10   \n",
       "57                            IT software transferring           N    10   \n",
       "66             MAJOR Incident (BSD System/Application)           N    10   \n",
       "76             MINOR Incident (BSD System/Application)           N    10   \n",
       "86                                 Network or internet           N    10   \n",
       "96   Onboarding Employee's IT-related Access and Ha...           N    10   \n",
       "98                  Online conference setup/ recording           N    10   \n",
       "108    Password Reset of Accounts Locally Administered           N    10   \n",
       "118                    Resignee's Clearance Processing           N    10   \n",
       "129                                             Server           N    10   \n",
       "137           Service Request (BSD System/Application)           N    10   \n",
       "147                                           Software           N    10   \n",
       "157                                          Telephony           N    10   \n",
       "167                                       WFH PC setup           N    10   \n",
       "\n",
       "    Beyond TAT Within TAT  \n",
       "9           18        139  \n",
       "19          36        215  \n",
       "29          11         55  \n",
       "39          30        151  \n",
       "49           0          6  \n",
       "57           2          6  \n",
       "66           1          0  \n",
       "76           1          1  \n",
       "86           2         14  \n",
       "96           0         19  \n",
       "98           0          4  \n",
       "108          0         11  \n",
       "118          0         18  \n",
       "129          1          9  \n",
       "137          1          2  \n",
       "147         23        117  \n",
       "157          0          4  \n",
       "167         12         46  "
      ]
     },
     "execution_count": 18,
     "metadata": {},
     "output_type": "execute_result"
    }
   ],
   "source": [
    "newdf = newdf.query('Week == 10')\n",
    "newdf"
   ]
  },
  {
   "cell_type": "markdown",
   "metadata": {},
   "source": [
    "### Add percentage column for beyond tat"
   ]
  },
  {
   "cell_type": "code",
   "execution_count": 19,
   "metadata": {},
   "outputs": [
    {
     "name": "stderr",
     "output_type": "stream",
     "text": [
      "C:\\Users\\JEWEL~1.ESP\\AppData\\Local\\Temp/ipykernel_19920/1893037449.py:3: SettingWithCopyWarning: \n",
      "A value is trying to be set on a copy of a slice from a DataFrame.\n",
      "Try using .loc[row_indexer,col_indexer] = value instead\n",
      "\n",
      "See the caveats in the documentation: https://pandas.pydata.org/pandas-docs/stable/user_guide/indexing.html#returning-a-view-versus-a-copy\n",
      "  newdf[\"Beyond TAT Percent\"] = beyondpercent\n"
     ]
    }
   ],
   "source": [
    "sumbeyondtat = newdf['Beyond TAT'].astype(int).sum()\n",
    "beyondpercent = newdf['Beyond TAT'].astype(int)/sumbeyondtat\n",
    "newdf[\"Beyond TAT Percent\"] = beyondpercent"
   ]
  },
  {
   "cell_type": "code",
   "execution_count": 20,
   "metadata": {},
   "outputs": [],
   "source": [
    "newdf = newdf.rename( columns = {'Beyond TAT': 'Beyond_TAT'}, inplace = False)\n",
    "newdf.Beyond_TAT = newdf.Beyond_TAT.astype(float)\n",
    "beyond = \"Beyond_TAT\"\n",
    "newdf = newdf.sort_values(beyond, ascending=False)\n"
   ]
  },
  {
   "cell_type": "code",
   "execution_count": 21,
   "metadata": {},
   "outputs": [
    {
     "data": {
      "text/html": [
       "<div>\n",
       "<style scoped>\n",
       "    .dataframe tbody tr th:only-of-type {\n",
       "        vertical-align: middle;\n",
       "    }\n",
       "\n",
       "    .dataframe tbody tr th {\n",
       "        vertical-align: top;\n",
       "    }\n",
       "\n",
       "    .dataframe thead th {\n",
       "        text-align: right;\n",
       "    }\n",
       "</style>\n",
       "<table border=\"1\" class=\"dataframe\">\n",
       "  <thead>\n",
       "    <tr style=\"text-align: right;\">\n",
       "      <th></th>\n",
       "      <th>Service</th>\n",
       "      <th>Olderthan14</th>\n",
       "      <th>Week</th>\n",
       "      <th>Beyond_TAT</th>\n",
       "      <th>Within TAT</th>\n",
       "      <th>Beyond TAT Percent</th>\n",
       "      <th>cumulative_sum</th>\n",
       "      <th>cumulative_perc</th>\n",
       "    </tr>\n",
       "  </thead>\n",
       "  <tbody>\n",
       "    <tr>\n",
       "      <th>19</th>\n",
       "      <td>Access</td>\n",
       "      <td>N</td>\n",
       "      <td>10</td>\n",
       "      <td>36</td>\n",
       "      <td>215</td>\n",
       "      <td>0.260870</td>\n",
       "      <td>36</td>\n",
       "      <td>26.086957</td>\n",
       "    </tr>\n",
       "    <tr>\n",
       "      <th>39</th>\n",
       "      <td>Hardware</td>\n",
       "      <td>N</td>\n",
       "      <td>10</td>\n",
       "      <td>30</td>\n",
       "      <td>151</td>\n",
       "      <td>0.217391</td>\n",
       "      <td>66</td>\n",
       "      <td>47.826087</td>\n",
       "    </tr>\n",
       "    <tr>\n",
       "      <th>147</th>\n",
       "      <td>Software</td>\n",
       "      <td>N</td>\n",
       "      <td>10</td>\n",
       "      <td>23</td>\n",
       "      <td>117</td>\n",
       "      <td>0.166667</td>\n",
       "      <td>89</td>\n",
       "      <td>64.492754</td>\n",
       "    </tr>\n",
       "    <tr>\n",
       "      <th>9</th>\n",
       "      <td>3rd Party/ Client Controlled Software, Network...</td>\n",
       "      <td>N</td>\n",
       "      <td>10</td>\n",
       "      <td>18</td>\n",
       "      <td>139</td>\n",
       "      <td>0.130435</td>\n",
       "      <td>107</td>\n",
       "      <td>77.536232</td>\n",
       "    </tr>\n",
       "    <tr>\n",
       "      <th>167</th>\n",
       "      <td>WFH PC setup</td>\n",
       "      <td>N</td>\n",
       "      <td>10</td>\n",
       "      <td>12</td>\n",
       "      <td>46</td>\n",
       "      <td>0.086957</td>\n",
       "      <td>119</td>\n",
       "      <td>86.231884</td>\n",
       "    </tr>\n",
       "    <tr>\n",
       "      <th>29</th>\n",
       "      <td>Email</td>\n",
       "      <td>N</td>\n",
       "      <td>10</td>\n",
       "      <td>11</td>\n",
       "      <td>55</td>\n",
       "      <td>0.079710</td>\n",
       "      <td>130</td>\n",
       "      <td>94.202899</td>\n",
       "    </tr>\n",
       "    <tr>\n",
       "      <th>57</th>\n",
       "      <td>IT software transferring</td>\n",
       "      <td>N</td>\n",
       "      <td>10</td>\n",
       "      <td>2</td>\n",
       "      <td>6</td>\n",
       "      <td>0.014493</td>\n",
       "      <td>132</td>\n",
       "      <td>95.652174</td>\n",
       "    </tr>\n",
       "    <tr>\n",
       "      <th>86</th>\n",
       "      <td>Network or internet</td>\n",
       "      <td>N</td>\n",
       "      <td>10</td>\n",
       "      <td>2</td>\n",
       "      <td>14</td>\n",
       "      <td>0.014493</td>\n",
       "      <td>134</td>\n",
       "      <td>97.101449</td>\n",
       "    </tr>\n",
       "    <tr>\n",
       "      <th>66</th>\n",
       "      <td>MAJOR Incident (BSD System/Application)</td>\n",
       "      <td>N</td>\n",
       "      <td>10</td>\n",
       "      <td>1</td>\n",
       "      <td>0</td>\n",
       "      <td>0.007246</td>\n",
       "      <td>135</td>\n",
       "      <td>97.826087</td>\n",
       "    </tr>\n",
       "    <tr>\n",
       "      <th>76</th>\n",
       "      <td>MINOR Incident (BSD System/Application)</td>\n",
       "      <td>N</td>\n",
       "      <td>10</td>\n",
       "      <td>1</td>\n",
       "      <td>1</td>\n",
       "      <td>0.007246</td>\n",
       "      <td>136</td>\n",
       "      <td>98.550725</td>\n",
       "    </tr>\n",
       "    <tr>\n",
       "      <th>129</th>\n",
       "      <td>Server</td>\n",
       "      <td>N</td>\n",
       "      <td>10</td>\n",
       "      <td>1</td>\n",
       "      <td>9</td>\n",
       "      <td>0.007246</td>\n",
       "      <td>137</td>\n",
       "      <td>99.275362</td>\n",
       "    </tr>\n",
       "    <tr>\n",
       "      <th>137</th>\n",
       "      <td>Service Request (BSD System/Application)</td>\n",
       "      <td>N</td>\n",
       "      <td>10</td>\n",
       "      <td>1</td>\n",
       "      <td>2</td>\n",
       "      <td>0.007246</td>\n",
       "      <td>138</td>\n",
       "      <td>100.000000</td>\n",
       "    </tr>\n",
       "    <tr>\n",
       "      <th>49</th>\n",
       "      <td>IT software assessment, evaluation and testing</td>\n",
       "      <td>N</td>\n",
       "      <td>10</td>\n",
       "      <td>0</td>\n",
       "      <td>6</td>\n",
       "      <td>0.000000</td>\n",
       "      <td>138</td>\n",
       "      <td>100.000000</td>\n",
       "    </tr>\n",
       "    <tr>\n",
       "      <th>98</th>\n",
       "      <td>Online conference setup/ recording</td>\n",
       "      <td>N</td>\n",
       "      <td>10</td>\n",
       "      <td>0</td>\n",
       "      <td>4</td>\n",
       "      <td>0.000000</td>\n",
       "      <td>138</td>\n",
       "      <td>100.000000</td>\n",
       "    </tr>\n",
       "    <tr>\n",
       "      <th>108</th>\n",
       "      <td>Password Reset of Accounts Locally Administered</td>\n",
       "      <td>N</td>\n",
       "      <td>10</td>\n",
       "      <td>0</td>\n",
       "      <td>11</td>\n",
       "      <td>0.000000</td>\n",
       "      <td>138</td>\n",
       "      <td>100.000000</td>\n",
       "    </tr>\n",
       "    <tr>\n",
       "      <th>118</th>\n",
       "      <td>Resignee's Clearance Processing</td>\n",
       "      <td>N</td>\n",
       "      <td>10</td>\n",
       "      <td>0</td>\n",
       "      <td>18</td>\n",
       "      <td>0.000000</td>\n",
       "      <td>138</td>\n",
       "      <td>100.000000</td>\n",
       "    </tr>\n",
       "    <tr>\n",
       "      <th>157</th>\n",
       "      <td>Telephony</td>\n",
       "      <td>N</td>\n",
       "      <td>10</td>\n",
       "      <td>0</td>\n",
       "      <td>4</td>\n",
       "      <td>0.000000</td>\n",
       "      <td>138</td>\n",
       "      <td>100.000000</td>\n",
       "    </tr>\n",
       "    <tr>\n",
       "      <th>96</th>\n",
       "      <td>Onboarding Employee's IT-related Access and Ha...</td>\n",
       "      <td>N</td>\n",
       "      <td>10</td>\n",
       "      <td>0</td>\n",
       "      <td>19</td>\n",
       "      <td>0.000000</td>\n",
       "      <td>138</td>\n",
       "      <td>100.000000</td>\n",
       "    </tr>\n",
       "  </tbody>\n",
       "</table>\n",
       "</div>"
      ],
      "text/plain": [
       "                                               Service Olderthan14  Week  \\\n",
       "19                                              Access           N    10   \n",
       "39                                            Hardware           N    10   \n",
       "147                                           Software           N    10   \n",
       "9    3rd Party/ Client Controlled Software, Network...           N    10   \n",
       "167                                       WFH PC setup           N    10   \n",
       "29                                               Email           N    10   \n",
       "57                            IT software transferring           N    10   \n",
       "86                                 Network or internet           N    10   \n",
       "66             MAJOR Incident (BSD System/Application)           N    10   \n",
       "76             MINOR Incident (BSD System/Application)           N    10   \n",
       "129                                             Server           N    10   \n",
       "137           Service Request (BSD System/Application)           N    10   \n",
       "49      IT software assessment, evaluation and testing           N    10   \n",
       "98                  Online conference setup/ recording           N    10   \n",
       "108    Password Reset of Accounts Locally Administered           N    10   \n",
       "118                    Resignee's Clearance Processing           N    10   \n",
       "157                                          Telephony           N    10   \n",
       "96   Onboarding Employee's IT-related Access and Ha...           N    10   \n",
       "\n",
       "    Beyond_TAT Within TAT  Beyond TAT Percent  cumulative_sum  cumulative_perc  \n",
       "19          36        215            0.260870              36        26.086957  \n",
       "39          30        151            0.217391              66        47.826087  \n",
       "147         23        117            0.166667              89        64.492754  \n",
       "9           18        139            0.130435             107        77.536232  \n",
       "167         12         46            0.086957             119        86.231884  \n",
       "29          11         55            0.079710             130        94.202899  \n",
       "57           2          6            0.014493             132        95.652174  \n",
       "86           2         14            0.014493             134        97.101449  \n",
       "66           1          0            0.007246             135        97.826087  \n",
       "76           1          1            0.007246             136        98.550725  \n",
       "129          1          9            0.007246             137        99.275362  \n",
       "137          1          2            0.007246             138       100.000000  \n",
       "49           0          6            0.000000             138       100.000000  \n",
       "98           0          4            0.000000             138       100.000000  \n",
       "108          0         11            0.000000             138       100.000000  \n",
       "118          0         18            0.000000             138       100.000000  \n",
       "157          0          4            0.000000             138       100.000000  \n",
       "96           0         19            0.000000             138       100.000000  "
      ]
     },
     "execution_count": 21,
     "metadata": {},
     "output_type": "execute_result"
    }
   ],
   "source": [
    "newdf['Beyond_TAT'] = newdf['Beyond_TAT'].astype(str).apply(lambda x: x.replace('.0',''))\n",
    "newdf['cumulative_sum'] = newdf[beyond].astype(int).cumsum()\n",
    "newdf['cumulative_perc'] = 100*newdf['cumulative_sum']/newdf[beyond].astype(int).sum()\n",
    "newdf"
   ]
  },
  {
   "cell_type": "markdown",
   "metadata": {},
   "source": [
    "## Create Pareto"
   ]
  },
  {
   "cell_type": "code",
   "execution_count": 22,
   "metadata": {},
   "outputs": [
    {
     "data": {
      "application/vnd.plotly.v1+json": {
       "config": {
        "plotlyServerURL": "https://plot.ly"
       },
       "data": [
        {
         "alignmentgroup": "True",
         "hovertemplate": "Service=%{x}<br>Beyond TAT Percent=%{y}<br>Beyond_TAT=%{text}<extra></extra>",
         "legendgroup": "Access",
         "marker": {
          "color": "#636efa",
          "pattern": {
           "shape": ""
          }
         },
         "name": "Access",
         "offsetgroup": "Access",
         "orientation": "v",
         "showlegend": true,
         "text": [
          "36"
         ],
         "textposition": "outside",
         "type": "bar",
         "width": 1,
         "x": [
          "Access"
         ],
         "xaxis": "x",
         "y": [
          0.2608695652173913
         ],
         "yaxis": "y"
        },
        {
         "alignmentgroup": "True",
         "hovertemplate": "Service=%{x}<br>Beyond TAT Percent=%{y}<br>Beyond_TAT=%{text}<extra></extra>",
         "legendgroup": "Hardware",
         "marker": {
          "color": "#EF553B",
          "pattern": {
           "shape": ""
          }
         },
         "name": "Hardware",
         "offsetgroup": "Hardware",
         "orientation": "v",
         "showlegend": true,
         "text": [
          "30"
         ],
         "textposition": "outside",
         "type": "bar",
         "width": 1,
         "x": [
          "Hardware"
         ],
         "xaxis": "x",
         "y": [
          0.21739130434782608
         ],
         "yaxis": "y"
        },
        {
         "alignmentgroup": "True",
         "hovertemplate": "Service=%{x}<br>Beyond TAT Percent=%{y}<br>Beyond_TAT=%{text}<extra></extra>",
         "legendgroup": "Software",
         "marker": {
          "color": "#00cc96",
          "pattern": {
           "shape": ""
          }
         },
         "name": "Software",
         "offsetgroup": "Software",
         "orientation": "v",
         "showlegend": true,
         "text": [
          "23"
         ],
         "textposition": "outside",
         "type": "bar",
         "width": 1,
         "x": [
          "Software"
         ],
         "xaxis": "x",
         "y": [
          0.16666666666666666
         ],
         "yaxis": "y"
        },
        {
         "alignmentgroup": "True",
         "hovertemplate": "Service=%{x}<br>Beyond TAT Percent=%{y}<br>Beyond_TAT=%{text}<extra></extra>",
         "legendgroup": "3rd Party/ Client Controlled Software, Network and Systems",
         "marker": {
          "color": "#ab63fa",
          "pattern": {
           "shape": ""
          }
         },
         "name": "3rd Party/ Client Controlled Software, Network and Systems",
         "offsetgroup": "3rd Party/ Client Controlled Software, Network and Systems",
         "orientation": "v",
         "showlegend": true,
         "text": [
          "18"
         ],
         "textposition": "outside",
         "type": "bar",
         "width": 1,
         "x": [
          "3rd Party/ Client Controlled Software, Network and Systems"
         ],
         "xaxis": "x",
         "y": [
          0.13043478260869565
         ],
         "yaxis": "y"
        },
        {
         "alignmentgroup": "True",
         "hovertemplate": "Service=%{x}<br>Beyond TAT Percent=%{y}<br>Beyond_TAT=%{text}<extra></extra>",
         "legendgroup": "WFH PC setup",
         "marker": {
          "color": "#FFA15A",
          "pattern": {
           "shape": ""
          }
         },
         "name": "WFH PC setup",
         "offsetgroup": "WFH PC setup",
         "orientation": "v",
         "showlegend": true,
         "text": [
          "12"
         ],
         "textposition": "outside",
         "type": "bar",
         "width": 1,
         "x": [
          "WFH PC setup"
         ],
         "xaxis": "x",
         "y": [
          0.08695652173913043
         ],
         "yaxis": "y"
        },
        {
         "alignmentgroup": "True",
         "hovertemplate": "Service=%{x}<br>Beyond TAT Percent=%{y}<br>Beyond_TAT=%{text}<extra></extra>",
         "legendgroup": "Email",
         "marker": {
          "color": "#19d3f3",
          "pattern": {
           "shape": ""
          }
         },
         "name": "Email",
         "offsetgroup": "Email",
         "orientation": "v",
         "showlegend": true,
         "text": [
          "11"
         ],
         "textposition": "outside",
         "type": "bar",
         "width": 1,
         "x": [
          "Email"
         ],
         "xaxis": "x",
         "y": [
          0.07971014492753623
         ],
         "yaxis": "y"
        },
        {
         "alignmentgroup": "True",
         "hovertemplate": "Service=%{x}<br>Beyond TAT Percent=%{y}<br>Beyond_TAT=%{text}<extra></extra>",
         "legendgroup": "IT software transferring",
         "marker": {
          "color": "#FF6692",
          "pattern": {
           "shape": ""
          }
         },
         "name": "IT software transferring",
         "offsetgroup": "IT software transferring",
         "orientation": "v",
         "showlegend": true,
         "text": [
          "2"
         ],
         "textposition": "outside",
         "type": "bar",
         "width": 1,
         "x": [
          "IT software transferring"
         ],
         "xaxis": "x",
         "y": [
          0.014492753623188406
         ],
         "yaxis": "y"
        },
        {
         "alignmentgroup": "True",
         "hovertemplate": "Service=%{x}<br>Beyond TAT Percent=%{y}<br>Beyond_TAT=%{text}<extra></extra>",
         "legendgroup": "Network or internet",
         "marker": {
          "color": "#B6E880",
          "pattern": {
           "shape": ""
          }
         },
         "name": "Network or internet",
         "offsetgroup": "Network or internet",
         "orientation": "v",
         "showlegend": true,
         "text": [
          "2"
         ],
         "textposition": "outside",
         "type": "bar",
         "width": 1,
         "x": [
          "Network or internet"
         ],
         "xaxis": "x",
         "y": [
          0.014492753623188406
         ],
         "yaxis": "y"
        },
        {
         "alignmentgroup": "True",
         "hovertemplate": "Service=%{x}<br>Beyond TAT Percent=%{y}<br>Beyond_TAT=%{text}<extra></extra>",
         "legendgroup": "MAJOR Incident (BSD System/Application)",
         "marker": {
          "color": "#FF97FF",
          "pattern": {
           "shape": ""
          }
         },
         "name": "MAJOR Incident (BSD System/Application)",
         "offsetgroup": "MAJOR Incident (BSD System/Application)",
         "orientation": "v",
         "showlegend": true,
         "text": [
          "1"
         ],
         "textposition": "outside",
         "type": "bar",
         "width": 1,
         "x": [
          "MAJOR Incident (BSD System/Application)"
         ],
         "xaxis": "x",
         "y": [
          0.007246376811594203
         ],
         "yaxis": "y"
        },
        {
         "alignmentgroup": "True",
         "hovertemplate": "Service=%{x}<br>Beyond TAT Percent=%{y}<br>Beyond_TAT=%{text}<extra></extra>",
         "legendgroup": "MINOR Incident (BSD System/Application)",
         "marker": {
          "color": "#FECB52",
          "pattern": {
           "shape": ""
          }
         },
         "name": "MINOR Incident (BSD System/Application)",
         "offsetgroup": "MINOR Incident (BSD System/Application)",
         "orientation": "v",
         "showlegend": true,
         "text": [
          "1"
         ],
         "textposition": "outside",
         "type": "bar",
         "width": 1,
         "x": [
          "MINOR Incident (BSD System/Application)"
         ],
         "xaxis": "x",
         "y": [
          0.007246376811594203
         ],
         "yaxis": "y"
        },
        {
         "alignmentgroup": "True",
         "hovertemplate": "Service=%{x}<br>Beyond TAT Percent=%{y}<br>Beyond_TAT=%{text}<extra></extra>",
         "legendgroup": "Server",
         "marker": {
          "color": "#636efa",
          "pattern": {
           "shape": ""
          }
         },
         "name": "Server",
         "offsetgroup": "Server",
         "orientation": "v",
         "showlegend": true,
         "text": [
          "1"
         ],
         "textposition": "outside",
         "type": "bar",
         "width": 1,
         "x": [
          "Server"
         ],
         "xaxis": "x",
         "y": [
          0.007246376811594203
         ],
         "yaxis": "y"
        },
        {
         "alignmentgroup": "True",
         "hovertemplate": "Service=%{x}<br>Beyond TAT Percent=%{y}<br>Beyond_TAT=%{text}<extra></extra>",
         "legendgroup": "Service Request (BSD System/Application)",
         "marker": {
          "color": "#EF553B",
          "pattern": {
           "shape": ""
          }
         },
         "name": "Service Request (BSD System/Application)",
         "offsetgroup": "Service Request (BSD System/Application)",
         "orientation": "v",
         "showlegend": true,
         "text": [
          "1"
         ],
         "textposition": "outside",
         "type": "bar",
         "width": 1,
         "x": [
          "Service Request (BSD System/Application)"
         ],
         "xaxis": "x",
         "y": [
          0.007246376811594203
         ],
         "yaxis": "y"
        },
        {
         "alignmentgroup": "True",
         "hovertemplate": "Service=%{x}<br>Beyond TAT Percent=%{y}<br>Beyond_TAT=%{text}<extra></extra>",
         "legendgroup": "IT software assessment, evaluation and testing",
         "marker": {
          "color": "#00cc96",
          "pattern": {
           "shape": ""
          }
         },
         "name": "IT software assessment, evaluation and testing",
         "offsetgroup": "IT software assessment, evaluation and testing",
         "orientation": "v",
         "showlegend": true,
         "text": [
          "0"
         ],
         "textposition": "outside",
         "type": "bar",
         "width": 1,
         "x": [
          "IT software assessment, evaluation and testing"
         ],
         "xaxis": "x",
         "y": [
          0
         ],
         "yaxis": "y"
        },
        {
         "alignmentgroup": "True",
         "hovertemplate": "Service=%{x}<br>Beyond TAT Percent=%{y}<br>Beyond_TAT=%{text}<extra></extra>",
         "legendgroup": "Online conference setup/ recording",
         "marker": {
          "color": "#ab63fa",
          "pattern": {
           "shape": ""
          }
         },
         "name": "Online conference setup/ recording",
         "offsetgroup": "Online conference setup/ recording",
         "orientation": "v",
         "showlegend": true,
         "text": [
          "0"
         ],
         "textposition": "outside",
         "type": "bar",
         "width": 1,
         "x": [
          "Online conference setup/ recording"
         ],
         "xaxis": "x",
         "y": [
          0
         ],
         "yaxis": "y"
        },
        {
         "alignmentgroup": "True",
         "hovertemplate": "Service=%{x}<br>Beyond TAT Percent=%{y}<br>Beyond_TAT=%{text}<extra></extra>",
         "legendgroup": "Password Reset of Accounts Locally Administered",
         "marker": {
          "color": "#FFA15A",
          "pattern": {
           "shape": ""
          }
         },
         "name": "Password Reset of Accounts Locally Administered",
         "offsetgroup": "Password Reset of Accounts Locally Administered",
         "orientation": "v",
         "showlegend": true,
         "text": [
          "0"
         ],
         "textposition": "outside",
         "type": "bar",
         "width": 1,
         "x": [
          "Password Reset of Accounts Locally Administered"
         ],
         "xaxis": "x",
         "y": [
          0
         ],
         "yaxis": "y"
        },
        {
         "alignmentgroup": "True",
         "hovertemplate": "Service=%{x}<br>Beyond TAT Percent=%{y}<br>Beyond_TAT=%{text}<extra></extra>",
         "legendgroup": "Resignee's Clearance Processing",
         "marker": {
          "color": "#19d3f3",
          "pattern": {
           "shape": ""
          }
         },
         "name": "Resignee's Clearance Processing",
         "offsetgroup": "Resignee's Clearance Processing",
         "orientation": "v",
         "showlegend": true,
         "text": [
          "0"
         ],
         "textposition": "outside",
         "type": "bar",
         "width": 1,
         "x": [
          "Resignee's Clearance Processing"
         ],
         "xaxis": "x",
         "y": [
          0
         ],
         "yaxis": "y"
        },
        {
         "alignmentgroup": "True",
         "hovertemplate": "Service=%{x}<br>Beyond TAT Percent=%{y}<br>Beyond_TAT=%{text}<extra></extra>",
         "legendgroup": "Telephony",
         "marker": {
          "color": "#FF6692",
          "pattern": {
           "shape": ""
          }
         },
         "name": "Telephony",
         "offsetgroup": "Telephony",
         "orientation": "v",
         "showlegend": true,
         "text": [
          "0"
         ],
         "textposition": "outside",
         "type": "bar",
         "width": 1,
         "x": [
          "Telephony"
         ],
         "xaxis": "x",
         "y": [
          0
         ],
         "yaxis": "y"
        },
        {
         "alignmentgroup": "True",
         "hovertemplate": "Service=%{x}<br>Beyond TAT Percent=%{y}<br>Beyond_TAT=%{text}<extra></extra>",
         "legendgroup": "Onboarding Employee's IT-related Access and Hardware Needs",
         "marker": {
          "color": "#B6E880",
          "pattern": {
           "shape": ""
          }
         },
         "name": "Onboarding Employee's IT-related Access and Hardware Needs",
         "offsetgroup": "Onboarding Employee's IT-related Access and Hardware Needs",
         "orientation": "v",
         "showlegend": true,
         "text": [
          "0"
         ],
         "textposition": "outside",
         "type": "bar",
         "width": 1,
         "x": [
          "Onboarding Employee's IT-related Access and Hardware Needs"
         ],
         "xaxis": "x",
         "y": [
          0
         ],
         "yaxis": "y"
        },
        {
         "hovertemplate": "Service=%{x}<br>cumulative_perc=%{y}<extra></extra>",
         "legendgroup": "",
         "line": {
          "color": "Black",
          "dash": "solid",
          "width": 3
         },
         "marker": {
          "symbol": "circle"
         },
         "mode": "lines",
         "name": "",
         "orientation": "v",
         "showlegend": false,
         "type": "scatter",
         "x": [
          "Access",
          "Hardware",
          "Software",
          "3rd Party/ Client Controlled Software, Network and Systems",
          "WFH PC setup",
          "Email",
          "IT software transferring",
          "Network or internet",
          "MAJOR Incident (BSD System/Application)",
          "MINOR Incident (BSD System/Application)",
          "Server",
          "Service Request (BSD System/Application)",
          "IT software assessment, evaluation and testing",
          "Online conference setup/ recording",
          "Password Reset of Accounts Locally Administered",
          "Resignee's Clearance Processing",
          "Telephony",
          "Onboarding Employee's IT-related Access and Hardware Needs"
         ],
         "xaxis": "x",
         "y": [
          26.08695652173913,
          47.82608695652174,
          64.4927536231884,
          77.53623188405797,
          86.23188405797102,
          94.20289855072464,
          95.65217391304348,
          97.10144927536231,
          97.82608695652173,
          98.55072463768116,
          99.27536231884058,
          100,
          100,
          100,
          100,
          100,
          100,
          100
         ],
         "yaxis": "y2"
        }
       ],
       "layout": {
        "autosize": false,
        "height": 650,
        "margin": {
         "b": 30,
         "l": 25,
         "r": 70,
         "t": 90
        },
        "template": {
         "data": {
          "bar": [
           {
            "error_x": {
             "color": "#2a3f5f"
            },
            "error_y": {
             "color": "#2a3f5f"
            },
            "marker": {
             "line": {
              "color": "#E5ECF6",
              "width": 0.5
             },
             "pattern": {
              "fillmode": "overlay",
              "size": 10,
              "solidity": 0.2
             }
            },
            "type": "bar"
           }
          ],
          "barpolar": [
           {
            "marker": {
             "line": {
              "color": "#E5ECF6",
              "width": 0.5
             },
             "pattern": {
              "fillmode": "overlay",
              "size": 10,
              "solidity": 0.2
             }
            },
            "type": "barpolar"
           }
          ],
          "carpet": [
           {
            "aaxis": {
             "endlinecolor": "#2a3f5f",
             "gridcolor": "white",
             "linecolor": "white",
             "minorgridcolor": "white",
             "startlinecolor": "#2a3f5f"
            },
            "baxis": {
             "endlinecolor": "#2a3f5f",
             "gridcolor": "white",
             "linecolor": "white",
             "minorgridcolor": "white",
             "startlinecolor": "#2a3f5f"
            },
            "type": "carpet"
           }
          ],
          "choropleth": [
           {
            "colorbar": {
             "outlinewidth": 0,
             "ticks": ""
            },
            "type": "choropleth"
           }
          ],
          "contour": [
           {
            "colorbar": {
             "outlinewidth": 0,
             "ticks": ""
            },
            "colorscale": [
             [
              0,
              "#0d0887"
             ],
             [
              0.1111111111111111,
              "#46039f"
             ],
             [
              0.2222222222222222,
              "#7201a8"
             ],
             [
              0.3333333333333333,
              "#9c179e"
             ],
             [
              0.4444444444444444,
              "#bd3786"
             ],
             [
              0.5555555555555556,
              "#d8576b"
             ],
             [
              0.6666666666666666,
              "#ed7953"
             ],
             [
              0.7777777777777778,
              "#fb9f3a"
             ],
             [
              0.8888888888888888,
              "#fdca26"
             ],
             [
              1,
              "#f0f921"
             ]
            ],
            "type": "contour"
           }
          ],
          "contourcarpet": [
           {
            "colorbar": {
             "outlinewidth": 0,
             "ticks": ""
            },
            "type": "contourcarpet"
           }
          ],
          "heatmap": [
           {
            "colorbar": {
             "outlinewidth": 0,
             "ticks": ""
            },
            "colorscale": [
             [
              0,
              "#0d0887"
             ],
             [
              0.1111111111111111,
              "#46039f"
             ],
             [
              0.2222222222222222,
              "#7201a8"
             ],
             [
              0.3333333333333333,
              "#9c179e"
             ],
             [
              0.4444444444444444,
              "#bd3786"
             ],
             [
              0.5555555555555556,
              "#d8576b"
             ],
             [
              0.6666666666666666,
              "#ed7953"
             ],
             [
              0.7777777777777778,
              "#fb9f3a"
             ],
             [
              0.8888888888888888,
              "#fdca26"
             ],
             [
              1,
              "#f0f921"
             ]
            ],
            "type": "heatmap"
           }
          ],
          "heatmapgl": [
           {
            "colorbar": {
             "outlinewidth": 0,
             "ticks": ""
            },
            "colorscale": [
             [
              0,
              "#0d0887"
             ],
             [
              0.1111111111111111,
              "#46039f"
             ],
             [
              0.2222222222222222,
              "#7201a8"
             ],
             [
              0.3333333333333333,
              "#9c179e"
             ],
             [
              0.4444444444444444,
              "#bd3786"
             ],
             [
              0.5555555555555556,
              "#d8576b"
             ],
             [
              0.6666666666666666,
              "#ed7953"
             ],
             [
              0.7777777777777778,
              "#fb9f3a"
             ],
             [
              0.8888888888888888,
              "#fdca26"
             ],
             [
              1,
              "#f0f921"
             ]
            ],
            "type": "heatmapgl"
           }
          ],
          "histogram": [
           {
            "marker": {
             "pattern": {
              "fillmode": "overlay",
              "size": 10,
              "solidity": 0.2
             }
            },
            "type": "histogram"
           }
          ],
          "histogram2d": [
           {
            "colorbar": {
             "outlinewidth": 0,
             "ticks": ""
            },
            "colorscale": [
             [
              0,
              "#0d0887"
             ],
             [
              0.1111111111111111,
              "#46039f"
             ],
             [
              0.2222222222222222,
              "#7201a8"
             ],
             [
              0.3333333333333333,
              "#9c179e"
             ],
             [
              0.4444444444444444,
              "#bd3786"
             ],
             [
              0.5555555555555556,
              "#d8576b"
             ],
             [
              0.6666666666666666,
              "#ed7953"
             ],
             [
              0.7777777777777778,
              "#fb9f3a"
             ],
             [
              0.8888888888888888,
              "#fdca26"
             ],
             [
              1,
              "#f0f921"
             ]
            ],
            "type": "histogram2d"
           }
          ],
          "histogram2dcontour": [
           {
            "colorbar": {
             "outlinewidth": 0,
             "ticks": ""
            },
            "colorscale": [
             [
              0,
              "#0d0887"
             ],
             [
              0.1111111111111111,
              "#46039f"
             ],
             [
              0.2222222222222222,
              "#7201a8"
             ],
             [
              0.3333333333333333,
              "#9c179e"
             ],
             [
              0.4444444444444444,
              "#bd3786"
             ],
             [
              0.5555555555555556,
              "#d8576b"
             ],
             [
              0.6666666666666666,
              "#ed7953"
             ],
             [
              0.7777777777777778,
              "#fb9f3a"
             ],
             [
              0.8888888888888888,
              "#fdca26"
             ],
             [
              1,
              "#f0f921"
             ]
            ],
            "type": "histogram2dcontour"
           }
          ],
          "mesh3d": [
           {
            "colorbar": {
             "outlinewidth": 0,
             "ticks": ""
            },
            "type": "mesh3d"
           }
          ],
          "parcoords": [
           {
            "line": {
             "colorbar": {
              "outlinewidth": 0,
              "ticks": ""
             }
            },
            "type": "parcoords"
           }
          ],
          "pie": [
           {
            "automargin": true,
            "type": "pie"
           }
          ],
          "scatter": [
           {
            "marker": {
             "colorbar": {
              "outlinewidth": 0,
              "ticks": ""
             }
            },
            "type": "scatter"
           }
          ],
          "scatter3d": [
           {
            "line": {
             "colorbar": {
              "outlinewidth": 0,
              "ticks": ""
             }
            },
            "marker": {
             "colorbar": {
              "outlinewidth": 0,
              "ticks": ""
             }
            },
            "type": "scatter3d"
           }
          ],
          "scattercarpet": [
           {
            "marker": {
             "colorbar": {
              "outlinewidth": 0,
              "ticks": ""
             }
            },
            "type": "scattercarpet"
           }
          ],
          "scattergeo": [
           {
            "marker": {
             "colorbar": {
              "outlinewidth": 0,
              "ticks": ""
             }
            },
            "type": "scattergeo"
           }
          ],
          "scattergl": [
           {
            "marker": {
             "colorbar": {
              "outlinewidth": 0,
              "ticks": ""
             }
            },
            "type": "scattergl"
           }
          ],
          "scattermapbox": [
           {
            "marker": {
             "colorbar": {
              "outlinewidth": 0,
              "ticks": ""
             }
            },
            "type": "scattermapbox"
           }
          ],
          "scatterpolar": [
           {
            "marker": {
             "colorbar": {
              "outlinewidth": 0,
              "ticks": ""
             }
            },
            "type": "scatterpolar"
           }
          ],
          "scatterpolargl": [
           {
            "marker": {
             "colorbar": {
              "outlinewidth": 0,
              "ticks": ""
             }
            },
            "type": "scatterpolargl"
           }
          ],
          "scatterternary": [
           {
            "marker": {
             "colorbar": {
              "outlinewidth": 0,
              "ticks": ""
             }
            },
            "type": "scatterternary"
           }
          ],
          "surface": [
           {
            "colorbar": {
             "outlinewidth": 0,
             "ticks": ""
            },
            "colorscale": [
             [
              0,
              "#0d0887"
             ],
             [
              0.1111111111111111,
              "#46039f"
             ],
             [
              0.2222222222222222,
              "#7201a8"
             ],
             [
              0.3333333333333333,
              "#9c179e"
             ],
             [
              0.4444444444444444,
              "#bd3786"
             ],
             [
              0.5555555555555556,
              "#d8576b"
             ],
             [
              0.6666666666666666,
              "#ed7953"
             ],
             [
              0.7777777777777778,
              "#fb9f3a"
             ],
             [
              0.8888888888888888,
              "#fdca26"
             ],
             [
              1,
              "#f0f921"
             ]
            ],
            "type": "surface"
           }
          ],
          "table": [
           {
            "cells": {
             "fill": {
              "color": "#EBF0F8"
             },
             "line": {
              "color": "white"
             }
            },
            "header": {
             "fill": {
              "color": "#C8D4E3"
             },
             "line": {
              "color": "white"
             }
            },
            "type": "table"
           }
          ]
         },
         "layout": {
          "annotationdefaults": {
           "arrowcolor": "#2a3f5f",
           "arrowhead": 0,
           "arrowwidth": 1
          },
          "autotypenumbers": "strict",
          "coloraxis": {
           "colorbar": {
            "outlinewidth": 0,
            "ticks": ""
           }
          },
          "colorscale": {
           "diverging": [
            [
             0,
             "#8e0152"
            ],
            [
             0.1,
             "#c51b7d"
            ],
            [
             0.2,
             "#de77ae"
            ],
            [
             0.3,
             "#f1b6da"
            ],
            [
             0.4,
             "#fde0ef"
            ],
            [
             0.5,
             "#f7f7f7"
            ],
            [
             0.6,
             "#e6f5d0"
            ],
            [
             0.7,
             "#b8e186"
            ],
            [
             0.8,
             "#7fbc41"
            ],
            [
             0.9,
             "#4d9221"
            ],
            [
             1,
             "#276419"
            ]
           ],
           "sequential": [
            [
             0,
             "#0d0887"
            ],
            [
             0.1111111111111111,
             "#46039f"
            ],
            [
             0.2222222222222222,
             "#7201a8"
            ],
            [
             0.3333333333333333,
             "#9c179e"
            ],
            [
             0.4444444444444444,
             "#bd3786"
            ],
            [
             0.5555555555555556,
             "#d8576b"
            ],
            [
             0.6666666666666666,
             "#ed7953"
            ],
            [
             0.7777777777777778,
             "#fb9f3a"
            ],
            [
             0.8888888888888888,
             "#fdca26"
            ],
            [
             1,
             "#f0f921"
            ]
           ],
           "sequentialminus": [
            [
             0,
             "#0d0887"
            ],
            [
             0.1111111111111111,
             "#46039f"
            ],
            [
             0.2222222222222222,
             "#7201a8"
            ],
            [
             0.3333333333333333,
             "#9c179e"
            ],
            [
             0.4444444444444444,
             "#bd3786"
            ],
            [
             0.5555555555555556,
             "#d8576b"
            ],
            [
             0.6666666666666666,
             "#ed7953"
            ],
            [
             0.7777777777777778,
             "#fb9f3a"
            ],
            [
             0.8888888888888888,
             "#fdca26"
            ],
            [
             1,
             "#f0f921"
            ]
           ]
          },
          "colorway": [
           "#636efa",
           "#EF553B",
           "#00cc96",
           "#ab63fa",
           "#FFA15A",
           "#19d3f3",
           "#FF6692",
           "#B6E880",
           "#FF97FF",
           "#FECB52"
          ],
          "font": {
           "color": "#2a3f5f"
          },
          "geo": {
           "bgcolor": "white",
           "lakecolor": "white",
           "landcolor": "#E5ECF6",
           "showlakes": true,
           "showland": true,
           "subunitcolor": "white"
          },
          "hoverlabel": {
           "align": "left"
          },
          "hovermode": "closest",
          "mapbox": {
           "style": "light"
          },
          "paper_bgcolor": "white",
          "plot_bgcolor": "#E5ECF6",
          "polar": {
           "angularaxis": {
            "gridcolor": "white",
            "linecolor": "white",
            "ticks": ""
           },
           "bgcolor": "#E5ECF6",
           "radialaxis": {
            "gridcolor": "white",
            "linecolor": "white",
            "ticks": ""
           }
          },
          "scene": {
           "xaxis": {
            "backgroundcolor": "#E5ECF6",
            "gridcolor": "white",
            "gridwidth": 2,
            "linecolor": "white",
            "showbackground": true,
            "ticks": "",
            "zerolinecolor": "white"
           },
           "yaxis": {
            "backgroundcolor": "#E5ECF6",
            "gridcolor": "white",
            "gridwidth": 2,
            "linecolor": "white",
            "showbackground": true,
            "ticks": "",
            "zerolinecolor": "white"
           },
           "zaxis": {
            "backgroundcolor": "#E5ECF6",
            "gridcolor": "white",
            "gridwidth": 2,
            "linecolor": "white",
            "showbackground": true,
            "ticks": "",
            "zerolinecolor": "white"
           }
          },
          "shapedefaults": {
           "line": {
            "color": "#2a3f5f"
           }
          },
          "ternary": {
           "aaxis": {
            "gridcolor": "white",
            "linecolor": "white",
            "ticks": ""
           },
           "baxis": {
            "gridcolor": "white",
            "linecolor": "white",
            "ticks": ""
           },
           "bgcolor": "#E5ECF6",
           "caxis": {
            "gridcolor": "white",
            "linecolor": "white",
            "ticks": ""
           }
          },
          "title": {
           "x": 0.05
          },
          "xaxis": {
           "automargin": true,
           "gridcolor": "white",
           "linecolor": "white",
           "ticks": "",
           "title": {
            "standoff": 15
           },
           "zerolinecolor": "white",
           "zerolinewidth": 2
          },
          "yaxis": {
           "automargin": true,
           "gridcolor": "white",
           "linecolor": "white",
           "ticks": "",
           "title": {
            "standoff": 15
           },
           "zerolinecolor": "white",
           "zerolinewidth": 2
          }
         }
        },
        "title": {
         "text": "Beyond TAT Distribution"
        },
        "width": 1500,
        "xaxis": {
         "anchor": "y",
         "domain": [
          0,
          0.94
         ],
         "showticklabels": false,
         "visible": false
        },
        "yaxis": {
         "anchor": "x",
         "domain": [
          0,
          1
         ]
        },
        "yaxis2": {
         "anchor": "x",
         "overlaying": "y",
         "side": "right"
        }
       }
      }
     },
     "metadata": {},
     "output_type": "display_data"
    }
   ],
   "source": [
    "subfig = make_subplots(specs=[[{\"secondary_y\": True}]])\n",
    "fig = px.bar(newdf, x=\"Service\", y=\"Beyond TAT Percent\", text=\"Beyond_TAT\", color=newdf['Service'])\n",
    "#fig.update_traces(texttemplate='%{text:.2%}', textposition='outside') #for percentage text\n",
    "fig.update_traces(textposition='outside') #for absolute number text\n",
    "for data in fig.data:\n",
    "    data[\"width\"] = 1\n",
    "\n",
    "fig2 = px.line(newdf, x=\"Service\", y=\"cumulative_perc\")\n",
    "fig2.update_traces(yaxis=\"y2\", line=dict(color=\"Black\", width=3))\n",
    "\n",
    "subfig.add_traces(fig.data + fig2.data)\n",
    "subfig.update_layout(autosize=False, width=1500, height=650, margin=dict(l=25, r=70, t=90, b=30), xaxis={'visible': False, 'showticklabels': False}, title=\"Beyond TAT Distribution\")\n",
    "subfig.show()"
   ]
  }
 ],
 "metadata": {
  "interpreter": {
   "hash": "f13d601dd69d4c7f1e4b4f617fdf123b80d3183cb8be10898de0914b322cec78"
  },
  "kernelspec": {
   "display_name": "Python 3.9.6 64-bit",
   "language": "python",
   "name": "python3"
  },
  "language_info": {
   "codemirror_mode": {
    "name": "ipython",
    "version": 3
   },
   "file_extension": ".py",
   "mimetype": "text/x-python",
   "name": "python",
   "nbconvert_exporter": "python",
   "pygments_lexer": "ipython3",
   "version": "3.9.6"
  },
  "orig_nbformat": 4
 },
 "nbformat": 4,
 "nbformat_minor": 2
}
